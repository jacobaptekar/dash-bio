{
  "nbformat": 4,
  "nbformat_minor": 0,
  "metadata": {
    "colab": {
      "name": "SDE Scratch Space",
      "provenance": [],
      "authorship_tag": "ABX9TyPR2y2oeRLqL+X4kUOYmlrQ",
      "include_colab_link": true
    },
    "kernelspec": {
      "name": "python3",
      "display_name": "Python 3"
    },
    "language_info": {
      "name": "python"
    }
  },
  "cells": [
    {
      "cell_type": "markdown",
      "metadata": {
        "id": "view-in-github",
        "colab_type": "text"
      },
      "source": [
        "<a href=\"https://colab.research.google.com/github/jacobaptekar/dash-bio/blob/master/SDE_Scratch_Space.ipynb\" target=\"_parent\"><img src=\"https://colab.research.google.com/assets/colab-badge.svg\" alt=\"Open In Colab\"/></a>"
      ]
    },
    {
      "cell_type": "code",
      "metadata": {
        "id": "0rObpG20VbJw"
      },
      "source": [
        "import numpy\n",
        "import pandas"
      ],
      "execution_count": 6,
      "outputs": []
    },
    {
      "cell_type": "code",
      "metadata": {
        "id": "_01Hl0_nVd37"
      },
      "source": [
        "class causality():\n",
        "    def _init_(self):\n",
        "      pass\n",
        "    def two_by_two(self, table0 = 'AE', table1 = 'EX', field0 = 'AEDECOD', field1 = 'EXDECOD', value0 = 'Heart Attack', value1 = 'Dexamethasone'):\n",
        "      dummytable = table0.merge(table1,\n",
        "                                how = 'outer',\n",
        "                                left_on = [] ,\n",
        "                                right_on = [])\n",
        "      return output\n"
      ],
      "execution_count": 9,
      "outputs": []
    },
    {
      "cell_type": "code",
      "metadata": {
        "id": "atLigWJ0Vhfb"
      },
      "source": [
        ""
      ],
      "execution_count": null,
      "outputs": []
    }
  ]
}